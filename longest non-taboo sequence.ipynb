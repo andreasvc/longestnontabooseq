{
 "cells": [
  {
   "cell_type": "code",
   "execution_count": 1,
   "metadata": {},
   "outputs": [
    {
     "name": "stdout",
     "output_type": "stream",
     "text": [
      "Given a set of taboo n-grams and a text, find the longest sequence of tokens\n",
      "without any of the taboo n-grams. An n-gram is represented as a string of\n",
      "space-separated tokens.\n",
      "\n",
      "Usage: longestnontaboo.py [--len] <taboofile> <filenames...>\n",
      "\n",
      "Specify taboo n-grams with one n-gram per line in taboofile;\n",
      "multiple filenames can be specified.\n",
      "By default the output is the longest non-taboo sequence.\n",
      "With --len, only the length of this sequence is reported.\n"
     ]
    }
   ],
   "source": [
    "import longestnontabooseq\n",
    "print(longestnontabooseq.__doc__)"
   ]
  },
  {
   "cell_type": "code",
   "execution_count": 2,
   "metadata": {},
   "outputs": [
    {
     "name": "stdout",
     "output_type": "stream",
     "text": [
      "/tmp/austen-emma.txt: be affixed to it . do not be overpowered by such a little tribute of admiration . if he had been anxious for secrecy , he would not have left the paper while i was by ; but he rather pushed it towards me than towards you . do not let us be too solemn on the business . he has encouragement enough to proceed , without our sighing out our souls over this charade . '' `` oh ! no -- i hope i shall not be ridiculous about it . do as you please . '' mr. woodhouse came in , and very soon led to the subject again , by the recurrence of his very frequent inquiry of `` well , my dears , how does your book go on ? -- have you got any thing fresh ? '' `` yes , papa ; we have something to read you , something quite fresh . a piece of paper was found on the table this morning -- ( dropt , we suppose , by a fairy ) -- containing a very pretty charade , and we have just copied it in . '' she read it to him , just as he liked to have any thing read , slowly and distinctly , and two or three times over , with explanations of every part as she proceeded -- and he was very much pleased , and , as she had foreseen , especially struck with the complimentary conclusion . `` aye , that 's very just , indeed , that 's very properly said . very true . ` woman , lovely woman . ' it is such a pretty charade , my dear , that i can easily guess what fairy brought it. -- nobody could have written so prettily , but you , emma . '' emma only nodded , and smiled. -- after a little thinking , and a very tender sigh , he added , '' ah ! it is no difficulty to see who you take after ! your dear mother was so clever at all those things ! if i had but her memory ! but i can remember nothing ; -- not even that particular riddle which you have heard me mention ; i can only recollect the first stanza ; and there are several . kitty , a fair but frozen maid , kindled a flame i yet deplore , the hood-wink 'd boy i called to aid , though of his near approach afraid , so fatal to my suit before . and that is all that i can recollect of it -- but it is very clever all the way through . but i think , my dear , you said you had got it . '' `` yes , papa , it is written out in our second page . we copied it from the elegant extracts . it was garrick 's , you know . '' `` aye , very true. -- i wish i could recollect more of it . kitty , a fair but frozen maid . the name makes me think of poor isabella ; for she was very near being christened catherine after her grandmama . i hope we shall have her here next week . have you thought , my dear , where you shall put her -- and what room there will be for the children ? '' `` oh ! yes -- she will have her own room , of course ; the room she always has ; -- and there is the nursery for the children , -- just as usual , you know . why should there be any change ? '' `` i do not know , my dear -- but it is so long since she was here ! -- not since last easter , and then only for a few days. -- mr . john knightley's being a lawyer is very inconvenient. -- poor isabella ! -- she is sadly taken away from us all ! -- and how sorry she will be when she comes , not to see miss taylor here ! '' `` she will not be surprized , papa , at least . '' `` i do not know , my dear . i am sure i was very much surprized when i first heard she was going to be married . '' `` we must ask mr. and mrs. weston to dine with us , while isabella is here . '' `` yes , my dear , if there is time. -- but -- ( in a very depressed tone ) -- she is coming for only one week . there will not be time for any thing . '' `` it is unfortunate that they can not stay longer -- but it seems a case of necessity . mr. john knightley must be in town again on the 28th , and we ought to be thankful , papa , that we are to have the whole of the time they can give to the country , that two or three days are not to be taken out for the abbey . mr. knightley promises to give up his claim this christmas -- though you know it is longer since they were with him , than with us . '' `` it would be very hard , indeed , my dear , if poor isabella were to be anywhere but at hartfield . '' mr. woodhouse could never allow for mr. knightley 's claims on his brother , or any body 's claims on isabella , except his own . he sat musing a little while , and then said , '' but i do not see why poor isabella should be obliged to go back so soon , though he does . i think , emma , i shall try and persuade her to stay longer with us . she and the children\n"
     ]
    }
   ],
   "source": [
    "longestnontabooseq.main('/tmp/taboowords.txt', '/tmp/austen-emma.txt')"
   ]
  },
  {
   "cell_type": "code",
   "execution_count": 3,
   "metadata": {},
   "outputs": [],
   "source": [
    "taboo = {'and', 'but', 'or', 'yes', 'no'}\n",
    "tokens = longestnontabooseq.preprocess('/tmp/austen-emma.txt')\n",
    "ngrams = longestnontabooseq.getngrams(tokens, taboo)"
   ]
  },
  {
   "cell_type": "code",
   "execution_count": 4,
   "metadata": {},
   "outputs": [
    {
     "data": {
      "image/png": "[encoded data removed]",
      "text/plain": [
       "<Figure size 432x288 with 1 Axes>"
      ]
     },
     "metadata": {
      "needs_background": "light"
     },
     "output_type": "display_data"
    }
   ],
   "source": [
    "# Where are the taboo matches?\n",
    "indices = longestnontabooseq.taboo_matches(ngrams, taboo)\n",
    "# What is the distance between consecutive matches? (x-axis)\n",
    "# how common is each distance? (y-axis)\n",
    "(indices[1:] - indices[:-1].values).hist();"
   ]
  },
  {
   "cell_type": "code",
   "execution_count": 5,
   "metadata": {},
   "outputs": [
    {
     "name": "stdout",
     "output_type": "stream",
     "text": [
      "jane fairfax , standing with her back to them , intent on her pianoforte . busy as he was , however , the young man was yet able to shew a most happy countenance on seeing emma again . `` this is a pleasure , '' said he , in rather a low voice , `` coming at least ten minutes earlier than i had calculated . you find me trying to be useful ; tell me if you think i shall succeed . '' `` what ! '' said mrs. weston , `` have not you finished it yet ? you would not earn a very good livelihood as a working silversmith at this rate . '' `` i have not been working uninterruptedly , '' he replied , `` i have been assisting miss fairfax in trying to make her instrument stand steadily , it was not quite firm ; an unevenness in the floor , i believe . you see we have been wedging one leg with paper . this was very kind of you to be persuaded to come . i was almost afraid you would be hurrying home . '' he contrived that she should be seated by him ;\n"
     ]
    }
   ],
   "source": [
    "# Show the longest non-taboo sequence\n",
    "result = longestnontabooseq.longest_non_taboo_sequence(ngrams, taboo)\n",
    "print(' '.join(result))"
   ]
  }
 ],
 "metadata": {
  "kernelspec": {
   "display_name": "Python 3",
   "language": "python",
   "name": "python3"
  },
  "language_info": {
   "codemirror_mode": {
    "name": "ipython",
    "version": 3
   },
   "file_extension": ".py",
   "mimetype": "text/x-python",
   "name": "python",
   "nbconvert_exporter": "python",
   "pygments_lexer": "ipython3",
   "version": "3.7.3"
  }
 },
 "nbformat": 4,
 "nbformat_minor": 4
}
